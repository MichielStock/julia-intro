{
 "cells": [
  {
   "cell_type": "markdown",
   "metadata": {},
   "source": [
    "*Some trivial examples to demonstrate core principles of the language, displaying other syntax along the way.*"
   ]
  },
  {
   "cell_type": "markdown",
   "metadata": {},
   "source": [
    "# Functions"
   ]
  },
  {
   "cell_type": "markdown",
   "metadata": {},
   "source": [
    "Let's define a function:"
   ]
  },
  {
   "cell_type": "code",
   "execution_count": 1,
   "metadata": {},
   "outputs": [
    {
     "data": {
      "text/plain": [
       "fact (generic function with 1 method)"
      ]
     },
     "execution_count": 1,
     "metadata": {},
     "output_type": "execute_result"
    }
   ],
   "source": [
    "function fact(n)\n",
    "    if n == 1\n",
    "        n\n",
    "    else\n",
    "        n * fact(n-1)\n",
    "    end\n",
    "end"
   ]
  },
  {
   "cell_type": "code",
   "execution_count": 2,
   "metadata": {},
   "outputs": [
    {
     "data": {
      "text/plain": [
       "1307674368000"
      ]
     },
     "execution_count": 2,
     "metadata": {},
     "output_type": "execute_result"
    }
   ],
   "source": [
    "fact(15)"
   ]
  },
  {
   "cell_type": "code",
   "execution_count": 3,
   "metadata": {},
   "outputs": [
    {
     "data": {
      "text/plain": [
       "\u001b[32m\u001b[1mTest Passed\u001b[22m\u001b[39m"
      ]
     },
     "execution_count": 3,
     "metadata": {},
     "output_type": "execute_result"
    }
   ],
   "source": [
    "using Test  # standard library package\n",
    "@test fact(15) == Base.factorial(15)"
   ]
  },
  {
   "cell_type": "markdown",
   "metadata": {},
   "source": [
    "Julia's JIT works like a static compiler, and generates high-quality machine code:"
   ]
  },
  {
   "cell_type": "code",
   "execution_count": 4,
   "metadata": {},
   "outputs": [
    {
     "name": "stdout",
     "output_type": "stream",
     "text": [
      "\t.text\n",
      "\tpushq\t%rbx\n",
      "\tmovq\t%rdi, %rbx\n",
      "\tcmpq\t$1, %rbx\n",
      "\tjne\tL17\n",
      "\tmovl\t$1, %eax\n",
      "\tpopq\t%rbx\n",
      "\tretq\n",
      "L17:\n",
      "\tleaq\t-1(%rbx), %rdi\n",
      "\tmovabsq\t$fact, %rax\n",
      "\tcallq\t*%rax\n",
      "\timulq\t%rbx, %rax\n",
      "\tpopq\t%rbx\n",
      "\tretq\n",
      "\tnopw\t(%rax,%rax)\n"
     ]
    }
   ],
   "source": [
    "@code_native fact(15)"
   ]
  },
  {
   "cell_type": "code",
   "execution_count": 5,
   "metadata": {},
   "outputs": [
    {
     "data": {
      "text/plain": [
       "-8764578968847253504"
      ]
     },
     "execution_count": 5,
     "metadata": {},
     "output_type": "execute_result"
    }
   ],
   "source": [
    "fact(30)"
   ]
  },
  {
   "cell_type": "code",
   "execution_count": 6,
   "metadata": {},
   "outputs": [
    {
     "data": {
      "text/plain": [
       "Int64"
      ]
     },
     "execution_count": 6,
     "metadata": {},
     "output_type": "execute_result"
    }
   ],
   "source": [
    "typeof(ans)"
   ]
  },
  {
   "cell_type": "markdown",
   "metadata": {},
   "source": [
    "Being fast means compromises: no `BigInt`s *by default*:"
   ]
  },
  {
   "cell_type": "code",
   "execution_count": 7,
   "metadata": {},
   "outputs": [
    {
     "data": {
      "text/plain": [
       "265252859812191058636308480000000"
      ]
     },
     "execution_count": 7,
     "metadata": {},
     "output_type": "execute_result"
    }
   ],
   "source": [
    "fact(big(30))"
   ]
  },
  {
   "cell_type": "code",
   "execution_count": 8,
   "metadata": {},
   "outputs": [
    {
     "data": {
      "text/plain": [
       "2.6525285981219103e32"
      ]
     },
     "execution_count": 8,
     "metadata": {},
     "output_type": "execute_result"
    }
   ],
   "source": [
    "fact(30.0)"
   ]
  },
  {
   "cell_type": "code",
   "execution_count": 9,
   "metadata": {},
   "outputs": [
    {
     "name": "stdout",
     "output_type": "stream",
     "text": [
      "\t.text\n",
      "\tpushq\t%rax\n",
      "\tmovabsq\t$140215587068080, %rax  # imm = 0x7F867C4258B0\n",
      "\tvucomisd\t(%rax), %xmm0\n",
      "\tjne\tL19\n",
      "\tjnp\tL57\n",
      "L19:\n",
      "\tmovabsq\t$140215587068088, %rax  # imm = 0x7F867C4258B8\n",
      "\tvmovsd\t%xmm0, (%rsp)\n",
      "\tvaddsd\t(%rax), %xmm0, %xmm0\n",
      "\tmovabsq\t$fact, %rax\n",
      "\tcallq\t*%rax\n",
      "\tvmulsd\t(%rsp), %xmm0, %xmm0\n",
      "\tpopq\t%rax\n",
      "\tretq\n",
      "L57:\n",
      "\tvmovsd\t(%rax), %xmm0           # xmm0 = mem[0],zero\n",
      "\tpopq\t%rax\n",
      "\tretq\n",
      "\tnop\n"
     ]
    }
   ],
   "source": [
    "@code_native fact(30.0)"
   ]
  },
  {
   "cell_type": "markdown",
   "metadata": {},
   "source": [
    "## Why start with functions?"
   ]
  },
  {
   "cell_type": "markdown",
   "metadata": {},
   "source": [
    "Functions are important!\n",
    "* compiled by the JIT\n",
    "* known local state"
   ]
  },
  {
   "cell_type": "code",
   "execution_count": 10,
   "metadata": {},
   "outputs": [],
   "source": [
    "using BenchmarkTools  # external package, more on this later"
   ]
  },
  {
   "cell_type": "code",
   "execution_count": 11,
   "metadata": {},
   "outputs": [
    {
     "name": "stdout",
     "output_type": "stream",
     "text": [
      "  38.947 ns (2 allocations: 32 bytes)\n"
     ]
    }
   ],
   "source": [
    "a = 1\n",
    "b = 2\n",
    "@btime sin(a)+b;"
   ]
  },
  {
   "cell_type": "code",
   "execution_count": 12,
   "metadata": {},
   "outputs": [
    {
     "name": "stdout",
     "output_type": "stream",
     "text": [
      "  11.595 ns (0 allocations: 0 bytes)\n"
     ]
    }
   ],
   "source": [
    "myfunction(a, b) = sin(a)+b\n",
    "@btime myfunction(1,2);"
   ]
  },
  {
   "cell_type": "markdown",
   "metadata": {},
   "source": [
    "# Macro's\n",
    "\n",
    "* functions: work with values\n",
    "* macros: work with expressions"
   ]
  },
  {
   "cell_type": "markdown",
   "metadata": {},
   "source": [
    "Very powerful! Only describe shortly to explain their use."
   ]
  },
  {
   "cell_type": "code",
   "execution_count": 13,
   "metadata": {},
   "outputs": [
    {
     "data": {
      "text/plain": [
       "3-element Array{Int64,1}:\n",
       " 1\n",
       " 2\n",
       " 3"
      ]
     },
     "execution_count": 13,
     "metadata": {},
     "output_type": "execute_result"
    }
   ],
   "source": [
    "a = [1, 2, 3]"
   ]
  },
  {
   "cell_type": "code",
   "execution_count": 14,
   "metadata": {},
   "outputs": [
    {
     "name": "stdout",
     "output_type": "stream",
     "text": [
      "acc += i = 1\n",
      "acc += i = 3\n",
      "acc += i = 6\n"
     ]
    },
    {
     "name": "stderr",
     "output_type": "stream",
     "text": [
      "┌ Warning: Deprecated syntax `implicit assignment to global variable `acc``.\n",
      "│ Use `global acc` instead.\n",
      "└ @ nothing none:0\n"
     ]
    },
    {
     "data": {
      "text/plain": [
       "\u001b[32m\u001b[1mTest Passed\u001b[22m\u001b[39m"
      ]
     },
     "execution_count": 14,
     "metadata": {},
     "output_type": "execute_result"
    }
   ],
   "source": [
    "acc = 0\n",
    "for i in a\n",
    "    @show acc += i\n",
    "end\n",
    "@test acc == sum(a)"
   ]
  },
  {
   "cell_type": "code",
   "execution_count": 15,
   "metadata": {},
   "outputs": [
    {
     "data": {
      "text/markdown": [
       "```\n",
       "@show\n",
       "```\n",
       "\n",
       "Show an expression and result, returning the result.\n"
      ],
      "text/plain": [
       "\u001b[36m  @show\u001b[39m\n",
       "\n",
       "  Show an expression and result, returning the result."
      ]
     },
     "execution_count": 15,
     "metadata": {},
     "output_type": "execute_result"
    }
   ],
   "source": [
    "?@show"
   ]
  },
  {
   "cell_type": "code",
   "execution_count": 16,
   "metadata": {},
   "outputs": [
    {
     "data": {
      "text/html": [
       "+<i>{T<:Union{Int128, Int16, Int32, Int64, Int8, UInt128, UInt16, UInt32, UInt64, UInt8}}</i>(x::<b>T</b>, y::<b>T</b>) in Base at <a href=\"https://github.com/JuliaLang/julia/tree/a4cb80f3edcf8cea00bd9660e3b65f544f41462f/base/int.jl#L53\" target=\"_blank\">int.jl:53</a>"
      ],
      "text/plain": [
       "+(x::T, y::T) where T<:Union{Int128, Int16, Int32, Int64, Int8, UInt128, UInt16, UInt32, UInt64, UInt8} in Base at int.jl:53"
      ]
     },
     "execution_count": 16,
     "metadata": {},
     "output_type": "execute_result"
    }
   ],
   "source": [
    "@which 1+1"
   ]
  },
  {
   "cell_type": "code",
   "execution_count": 17,
   "metadata": {},
   "outputs": [
    {
     "name": "stdout",
     "output_type": "stream",
     "text": [
      "\n",
      "define i64 @julia_fact_37057.1(i64) {\n",
      "top:\n",
      "  %1 = icmp eq i64 %0, 1\n",
      "  br i1 %1, label %L3, label %L4\n",
      "\n",
      "L3:                                               ; preds = %top\n",
      "  ret i64 1\n",
      "\n",
      "L4:                                               ; preds = %top\n",
      "  %2 = add i64 %0, -1\n",
      "  %3 = call i64 @julia_fact_37057(i64 %2)\n",
      "  %4 = mul i64 %3, %0\n",
      "  ret i64 %4\n",
      "}\n"
     ]
    }
   ],
   "source": [
    "@code_llvm fact(15)"
   ]
  },
  {
   "cell_type": "markdown",
   "metadata": {},
   "source": [
    "Great for:\n",
    "* creating DSLs\n",
    "* adding/prototyping syntax"
   ]
  },
  {
   "cell_type": "markdown",
   "metadata": {},
   "source": [
    "# Types"
   ]
  },
  {
   "cell_type": "code",
   "execution_count": 18,
   "metadata": {},
   "outputs": [
    {
     "data": {
      "text/plain": [
       "Int64"
      ]
     },
     "execution_count": 18,
     "metadata": {},
     "output_type": "execute_result"
    }
   ],
   "source": [
    "typeof(42)"
   ]
  },
  {
   "cell_type": "code",
   "execution_count": 19,
   "metadata": {},
   "outputs": [
    {
     "data": {
      "text/plain": [
       "true"
      ]
     },
     "execution_count": 19,
     "metadata": {},
     "output_type": "execute_result"
    }
   ],
   "source": [
    "Int === Int64"
   ]
  },
  {
   "cell_type": "markdown",
   "metadata": {},
   "source": [
    "Flat hierarchy of many abstract and one concrete type:"
   ]
  },
  {
   "cell_type": "code",
   "execution_count": 20,
   "metadata": {},
   "outputs": [
    {
     "data": {
      "text/plain": [
       "6-element Array{DataType,1}:\n",
       " Int64  \n",
       " Signed \n",
       " Integer\n",
       " Real   \n",
       " Number \n",
       " Any    "
      ]
     },
     "execution_count": 20,
     "metadata": {},
     "output_type": "execute_result"
    }
   ],
   "source": [
    "hierarchy = [Int]\n",
    "T = last(hierarchy)\n",
    "while T !== supertype(T)\n",
    "    push!(hierarchy, supertype(T))\n",
    "    T = last(hierarchy)\n",
    "end\n",
    "hierarchy"
   ]
  },
  {
   "cell_type": "code",
   "execution_count": 21,
   "metadata": {},
   "outputs": [
    {
     "data": {
      "text/plain": [
       "6-element Array{Tuple{Bool,Bool,DataType},1}:\n",
       " (true, false, Int64)  \n",
       " (false, true, Signed) \n",
       " (false, true, Integer)\n",
       " (false, true, Real)   \n",
       " (false, true, Number) \n",
       " (false, true, Any)    "
      ]
     },
     "execution_count": 21,
     "metadata": {},
     "output_type": "execute_result"
    }
   ],
   "source": [
    "map(T -> (isconcretetype(T), isabstracttype(T), T), hierarchy)"
   ]
  },
  {
   "cell_type": "markdown",
   "metadata": {},
   "source": [
    "Defining our own types is easy:"
   ]
  },
  {
   "cell_type": "code",
   "execution_count": 22,
   "metadata": {},
   "outputs": [],
   "source": [
    "struct SpecialNumber <: Number\n",
    "    x::Int\n",
    "end"
   ]
  },
  {
   "cell_type": "code",
   "execution_count": 23,
   "metadata": {},
   "outputs": [
    {
     "data": {
      "text/plain": [
       "SpecialNumber(42)"
      ]
     },
     "execution_count": 23,
     "metadata": {},
     "output_type": "execute_result"
    }
   ],
   "source": [
    "x = SpecialNumber(42)"
   ]
  },
  {
   "cell_type": "markdown",
   "metadata": {},
   "source": [
    "Types can be parametric, eg. `Array{T,N}` which is parametic in:\n",
    "* element type `T`\n",
    "* dimensions `N`"
   ]
  },
  {
   "cell_type": "code",
   "execution_count": 24,
   "metadata": {},
   "outputs": [
    {
     "data": {
      "text/plain": [
       "Array{T,1} where T"
      ]
     },
     "execution_count": 24,
     "metadata": {},
     "output_type": "execute_result"
    }
   ],
   "source": [
    "Vector"
   ]
  },
  {
   "cell_type": "code",
   "execution_count": 25,
   "metadata": {},
   "outputs": [
    {
     "data": {
      "text/plain": [
       "10-element Array{SpecialNumber,1}:\n",
       "  SpecialNumber(1)\n",
       "  SpecialNumber(2)\n",
       "  SpecialNumber(3)\n",
       "  SpecialNumber(4)\n",
       "  SpecialNumber(5)\n",
       "  SpecialNumber(6)\n",
       "  SpecialNumber(7)\n",
       "  SpecialNumber(8)\n",
       "  SpecialNumber(9)\n",
       " SpecialNumber(10)"
      ]
     },
     "execution_count": 25,
     "metadata": {},
     "output_type": "execute_result"
    }
   ],
   "source": [
    "[SpecialNumber(i) for i in 1:10]"
   ]
  },
  {
   "cell_type": "code",
   "execution_count": 26,
   "metadata": {},
   "outputs": [
    {
     "data": {
      "text/plain": [
       "10×10 Array{SpecialNumber,2}:\n",
       " SpecialNumber(55)   SpecialNumber(69)  …   SpecialNumber(27)\n",
       " SpecialNumber(42)   SpecialNumber(98)      SpecialNumber(98)\n",
       " SpecialNumber(61)   SpecialNumber(42)       SpecialNumber(9)\n",
       " SpecialNumber(13)   SpecialNumber(32)      SpecialNumber(14)\n",
       " SpecialNumber(87)   SpecialNumber(83)      SpecialNumber(92)\n",
       " SpecialNumber(59)   SpecialNumber(90)  …   SpecialNumber(75)\n",
       "  SpecialNumber(8)  SpecialNumber(100)      SpecialNumber(32)\n",
       " SpecialNumber(76)   SpecialNumber(66)      SpecialNumber(77)\n",
       " SpecialNumber(18)   SpecialNumber(71)     SpecialNumber(100)\n",
       " SpecialNumber(39)   SpecialNumber(33)      SpecialNumber(56)"
      ]
     },
     "execution_count": 26,
     "metadata": {},
     "output_type": "execute_result"
    }
   ],
   "source": [
    "special_mat = SpecialNumber.(rand(1:100, 10, 10))"
   ]
  },
  {
   "cell_type": "markdown",
   "metadata": {},
   "source": [
    "# Multiple dispatch"
   ]
  },
  {
   "cell_type": "markdown",
   "metadata": {},
   "source": [
    "Single-dispatch languages: `SpecialNumber::plus(SpecialNumber other)`\n",
    "\n",
    "Multiple dispatch: much more natural way of expressing behavior."
   ]
  },
  {
   "cell_type": "code",
   "execution_count": 27,
   "metadata": {},
   "outputs": [],
   "source": [
    "function Base.:+(a::SpecialNumber, b::SpecialNumber)\n",
    "    SpecialNumber(a.x + b.x)\n",
    "end"
   ]
  },
  {
   "cell_type": "code",
   "execution_count": 28,
   "metadata": {},
   "outputs": [
    {
     "data": {
      "text/plain": [
       "SpecialNumber(84)"
      ]
     },
     "execution_count": 28,
     "metadata": {},
     "output_type": "execute_result"
    }
   ],
   "source": [
    "x + x"
   ]
  },
  {
   "cell_type": "code",
   "execution_count": 29,
   "metadata": {},
   "outputs": [
    {
     "data": {
      "text/plain": [
       "SpecialNumber(126)"
      ]
     },
     "execution_count": 29,
     "metadata": {},
     "output_type": "execute_result"
    }
   ],
   "source": [
    "sum(SpecialNumber[x, x, x])"
   ]
  },
  {
   "cell_type": "markdown",
   "metadata": {},
   "source": [
    "Defining multiplication gets us matrix multiplication:"
   ]
  },
  {
   "cell_type": "code",
   "execution_count": 30,
   "metadata": {},
   "outputs": [
    {
     "data": {
      "text/plain": [
       "10×10 Array{SpecialNumber,2}:\n",
       " SpecialNumber(21141)  SpecialNumber(31268)  …  SpecialNumber(26442)\n",
       " SpecialNumber(28699)  SpecialNumber(40700)     SpecialNumber(37391)\n",
       " SpecialNumber(28640)  SpecialNumber(40429)     SpecialNumber(38005)\n",
       " SpecialNumber(28686)  SpecialNumber(44050)     SpecialNumber(36293)\n",
       " SpecialNumber(25935)  SpecialNumber(40357)     SpecialNumber(33827)\n",
       " SpecialNumber(19513)  SpecialNumber(31885)  …  SpecialNumber(29510)\n",
       " SpecialNumber(21441)  SpecialNumber(39744)     SpecialNumber(34568)\n",
       " SpecialNumber(24344)  SpecialNumber(33290)     SpecialNumber(31275)\n",
       " SpecialNumber(20494)  SpecialNumber(33873)     SpecialNumber(27137)\n",
       " SpecialNumber(16194)  SpecialNumber(31192)     SpecialNumber(24965)"
      ]
     },
     "execution_count": 30,
     "metadata": {},
     "output_type": "execute_result"
    }
   ],
   "source": [
    "Base.:*(a::SpecialNumber, b::SpecialNumber) = SpecialNumber(a.x * b.x)\n",
    "special_mat * special_mat"
   ]
  },
  {
   "cell_type": "markdown",
   "metadata": {},
   "source": [
    "What if we want to work with other numbers?"
   ]
  },
  {
   "cell_type": "code",
   "execution_count": 31,
   "metadata": {},
   "outputs": [],
   "source": [
    "Base.:+(a::SpecialNumber, b::Number) = SpecialNumber(a.x + b)\n",
    "Base.:+(a::Number, b::SpecialNumber) = SpecialNumber(a + b.x)"
   ]
  },
  {
   "cell_type": "code",
   "execution_count": 32,
   "metadata": {},
   "outputs": [
    {
     "data": {
      "text/plain": [
       "SpecialNumber(43)"
      ]
     },
     "execution_count": 32,
     "metadata": {},
     "output_type": "execute_result"
    }
   ],
   "source": [
    "x + 1"
   ]
  },
  {
   "cell_type": "code",
   "execution_count": 33,
   "metadata": {},
   "outputs": [
    {
     "data": {
      "text/plain": [
       "SpecialNumber(43)"
      ]
     },
     "execution_count": 33,
     "metadata": {},
     "output_type": "execute_result"
    }
   ],
   "source": [
    "1 + x"
   ]
  },
  {
   "cell_type": "markdown",
   "metadata": {},
   "source": [
    "This last definition would have been hard in a single-dispatch language!\n",
    "\n",
    "For example, Python: `__add__` and `__radd__`; doesn't work generally."
   ]
  }
 ],
 "metadata": {
  "kernelspec": {
   "display_name": "Julia 0.7.0",
   "language": "julia",
   "name": "julia-0.7"
  },
  "language_info": {
   "file_extension": ".jl",
   "mimetype": "application/julia",
   "name": "julia",
   "version": "0.7.0"
  }
 },
 "nbformat": 4,
 "nbformat_minor": 2
}
