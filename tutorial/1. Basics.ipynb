{
 "cells": [
  {
   "cell_type": "markdown",
   "metadata": {},
   "source": [
    "Some trivial examples to demonstrate core principles of the language, displaying other syntax along the way."
   ]
  },
  {
   "cell_type": "markdown",
   "metadata": {},
   "source": [
    "# Functions"
   ]
  },
  {
   "cell_type": "markdown",
   "metadata": {},
   "source": [
    "Let's define a function:"
   ]
  },
  {
   "cell_type": "code",
   "execution_count": 1,
   "metadata": {},
   "outputs": [
    {
     "data": {
      "text/plain": [
       "fact (generic function with 1 method)"
      ]
     },
     "execution_count": 1,
     "metadata": {},
     "output_type": "execute_result"
    }
   ],
   "source": [
    "function fact(n)\n",
    "    if n == 1\n",
    "        n\n",
    "    else\n",
    "        n * fact(n-1)\n",
    "    end\n",
    "end"
   ]
  },
  {
   "cell_type": "code",
   "execution_count": 26,
   "metadata": {},
   "outputs": [
    {
     "data": {
      "text/plain": [
       "1307674368000"
      ]
     },
     "execution_count": 26,
     "metadata": {},
     "output_type": "execute_result"
    }
   ],
   "source": [
    "fact(15)"
   ]
  },
  {
   "cell_type": "code",
   "execution_count": 76,
   "metadata": {},
   "outputs": [
    {
     "data": {
      "text/plain": [
       "\u001b[32m\u001b[1mTest Passed\u001b[22m\u001b[39m"
      ]
     },
     "execution_count": 76,
     "metadata": {},
     "output_type": "execute_result"
    }
   ],
   "source": [
    "using Test  # standard library package\n",
    "@test fact(15) == Base.factorial(15)"
   ]
  },
  {
   "cell_type": "markdown",
   "metadata": {},
   "source": [
    "Julia's JIT works like a static compiler, and generates high-quality machine code:"
   ]
  },
  {
   "cell_type": "code",
   "execution_count": 2,
   "metadata": {},
   "outputs": [
    {
     "name": "stdout",
     "output_type": "stream",
     "text": [
      "\t.text\n",
      "\tpushq\t%rbx\n",
      "\tmovq\t%rdi, %rbx\n",
      "\tcmpq\t$1, %rbx\n",
      "\tjne\tL17\n",
      "\tmovl\t$1, %eax\n",
      "\tpopq\t%rbx\n",
      "\tretq\n",
      "L17:\n",
      "\tleaq\t-1(%rbx), %rdi\n",
      "\tmovabsq\t$fact, %rax\n",
      "\tcallq\t*%rax\n",
      "\timulq\t%rbx, %rax\n",
      "\tpopq\t%rbx\n",
      "\tretq\n",
      "\tnopw\t(%rax,%rax)\n"
     ]
    }
   ],
   "source": [
    "@code_native fact(15)"
   ]
  },
  {
   "cell_type": "code",
   "execution_count": 32,
   "metadata": {},
   "outputs": [
    {
     "data": {
      "text/plain": [
       "-8764578968847253504"
      ]
     },
     "execution_count": 32,
     "metadata": {},
     "output_type": "execute_result"
    }
   ],
   "source": [
    "fact(30)"
   ]
  },
  {
   "cell_type": "code",
   "execution_count": 33,
   "metadata": {},
   "outputs": [
    {
     "data": {
      "text/plain": [
       "Int64"
      ]
     },
     "execution_count": 33,
     "metadata": {},
     "output_type": "execute_result"
    }
   ],
   "source": [
    "typeof(ans)"
   ]
  },
  {
   "cell_type": "markdown",
   "metadata": {},
   "source": [
    "Being fast means compromises: no `BigInt`s *by default*:"
   ]
  },
  {
   "cell_type": "code",
   "execution_count": 51,
   "metadata": {},
   "outputs": [
    {
     "data": {
      "text/plain": [
       "265252859812191058636308480000000"
      ]
     },
     "execution_count": 51,
     "metadata": {},
     "output_type": "execute_result"
    }
   ],
   "source": [
    "fact(big(30))"
   ]
  },
  {
   "cell_type": "code",
   "execution_count": 52,
   "metadata": {},
   "outputs": [
    {
     "data": {
      "text/plain": [
       "2.6525285981219103e32"
      ]
     },
     "execution_count": 52,
     "metadata": {},
     "output_type": "execute_result"
    }
   ],
   "source": [
    "fact(30.0)"
   ]
  },
  {
   "cell_type": "code",
   "execution_count": 3,
   "metadata": {},
   "outputs": [
    {
     "name": "stdout",
     "output_type": "stream",
     "text": [
      "\t.text\n",
      "\tpushq\t%rax\n",
      "\tmovabsq\t$140291786693712, %rax  # imm = 0x7F983A1C5C50\n",
      "\tvucomisd\t(%rax), %xmm0\n",
      "\tjne\tL19\n",
      "\tjnp\tL57\n",
      "L19:\n",
      "\tmovabsq\t$140291786693720, %rax  # imm = 0x7F983A1C5C58\n",
      "\tvmovsd\t%xmm0, (%rsp)\n",
      "\tvaddsd\t(%rax), %xmm0, %xmm0\n",
      "\tmovabsq\t$fact, %rax\n",
      "\tcallq\t*%rax\n",
      "\tvmulsd\t(%rsp), %xmm0, %xmm0\n",
      "\tpopq\t%rax\n",
      "\tretq\n",
      "L57:\n",
      "\tvmovsd\t(%rax), %xmm0           # xmm0 = mem[0],zero\n",
      "\tpopq\t%rax\n",
      "\tretq\n",
      "\tnop\n"
     ]
    }
   ],
   "source": [
    "@code_native fact(30.0)"
   ]
  },
  {
   "cell_type": "markdown",
   "metadata": {},
   "source": [
    "## Why start with functions?"
   ]
  },
  {
   "cell_type": "markdown",
   "metadata": {},
   "source": [
    "Functions are important!\n",
    "* compiled by the JIT\n",
    "* known local state"
   ]
  },
  {
   "cell_type": "code",
   "execution_count": 29,
   "metadata": {},
   "outputs": [],
   "source": [
    "using BenchmarkTools  # external package, more on this later"
   ]
  },
  {
   "cell_type": "code",
   "execution_count": 46,
   "metadata": {},
   "outputs": [
    {
     "name": "stdout",
     "output_type": "stream",
     "text": [
      "  40.129 ns (2 allocations: 32 bytes)\n"
     ]
    }
   ],
   "source": [
    "a = 1\n",
    "b = 2\n",
    "@btime sin(a)+b;"
   ]
  },
  {
   "cell_type": "code",
   "execution_count": 47,
   "metadata": {},
   "outputs": [
    {
     "name": "stdout",
     "output_type": "stream",
     "text": [
      "  7.700 ns (0 allocations: 0 bytes)\n"
     ]
    }
   ],
   "source": [
    "myfunction(a, b) = sin(a)+b\n",
    "@btime myfunction(1,2);"
   ]
  },
  {
   "cell_type": "markdown",
   "metadata": {},
   "source": [
    "# Macro's\n",
    "\n",
    "* functions: work with values\n",
    "* macros: work with expressions"
   ]
  },
  {
   "cell_type": "markdown",
   "metadata": {},
   "source": [
    "Very powerful! Only describe shortly to explain their use."
   ]
  },
  {
   "cell_type": "code",
   "execution_count": 38,
   "metadata": {},
   "outputs": [
    {
     "data": {
      "text/plain": [
       "3-element Array{Int64,1}:\n",
       " 1\n",
       " 2\n",
       " 3"
      ]
     },
     "execution_count": 38,
     "metadata": {},
     "output_type": "execute_result"
    }
   ],
   "source": [
    "a = [1, 2, 3]"
   ]
  },
  {
   "cell_type": "code",
   "execution_count": 44,
   "metadata": {},
   "outputs": [
    {
     "name": "stderr",
     "output_type": "stream",
     "text": [
      "┌ Warning: Deprecated syntax `implicit assignment to global variable `acc``.\n",
      "│ Use `global acc` instead.\n",
      "└ @ nothing none:0\n"
     ]
    },
    {
     "name": "stdout",
     "output_type": "stream",
     "text": [
      "acc += i = 1\n",
      "acc += i = 3\n",
      "acc += i = 6\n"
     ]
    },
    {
     "data": {
      "text/plain": [
       "\u001b[32m\u001b[1mTest Passed\u001b[22m\u001b[39m"
      ]
     },
     "execution_count": 44,
     "metadata": {},
     "output_type": "execute_result"
    }
   ],
   "source": [
    "acc = 0\n",
    "for i in a\n",
    "    @show acc += i\n",
    "end\n",
    "@test acc == sum(a)"
   ]
  },
  {
   "cell_type": "code",
   "execution_count": 45,
   "metadata": {},
   "outputs": [
    {
     "data": {
      "text/markdown": [
       "```\n",
       "@show\n",
       "```\n",
       "\n",
       "Show an expression and result, returning the result.\n"
      ],
      "text/plain": [
       "\u001b[36m  @show\u001b[39m\n",
       "\n",
       "  Show an expression and result, returning the result."
      ]
     },
     "execution_count": 45,
     "metadata": {},
     "output_type": "execute_result"
    }
   ],
   "source": [
    "?@show"
   ]
  },
  {
   "cell_type": "markdown",
   "metadata": {},
   "source": [
    "# Types"
   ]
  },
  {
   "cell_type": "code",
   "execution_count": 10,
   "metadata": {},
   "outputs": [
    {
     "data": {
      "text/plain": [
       "Int64"
      ]
     },
     "execution_count": 10,
     "metadata": {},
     "output_type": "execute_result"
    }
   ],
   "source": [
    "typeof(42)"
   ]
  },
  {
   "cell_type": "code",
   "execution_count": 12,
   "metadata": {},
   "outputs": [
    {
     "data": {
      "text/plain": [
       "true"
      ]
     },
     "execution_count": 12,
     "metadata": {},
     "output_type": "execute_result"
    }
   ],
   "source": [
    "Int === Int64"
   ]
  },
  {
   "cell_type": "code",
   "execution_count": 11,
   "metadata": {},
   "outputs": [
    {
     "name": "stdout",
     "output_type": "stream",
     "text": [
      "supertype(T) = Signed\n",
      "supertype(T) = Integer\n",
      "supertype(T) = Real\n",
      "supertype(T) = Number\n",
      "supertype(T) = Any\n"
     ]
    }
   ],
   "source": [
    "T = Int\n",
    "while T !== supertype(T)\n",
    "    T = @show supertype(T)\n",
    "end"
   ]
  },
  {
   "cell_type": "code",
   "execution_count": 13,
   "metadata": {},
   "outputs": [],
   "source": [
    "struct SpecialNumber <: Number\n",
    "    x::Int\n",
    "end"
   ]
  },
  {
   "cell_type": "code",
   "execution_count": 14,
   "metadata": {},
   "outputs": [
    {
     "data": {
      "text/plain": [
       "SpecialNumber(42)"
      ]
     },
     "execution_count": 14,
     "metadata": {},
     "output_type": "execute_result"
    }
   ],
   "source": [
    "x = SpecialNumber(42)"
   ]
  },
  {
   "cell_type": "code",
   "execution_count": 48,
   "metadata": {},
   "outputs": [
    {
     "data": {
      "text/plain": [
       "10-element Array{SpecialNumber,1}:\n",
       "  SpecialNumber(1)\n",
       "  SpecialNumber(2)\n",
       "  SpecialNumber(3)\n",
       "  SpecialNumber(4)\n",
       "  SpecialNumber(5)\n",
       "  SpecialNumber(6)\n",
       "  SpecialNumber(7)\n",
       "  SpecialNumber(8)\n",
       "  SpecialNumber(9)\n",
       " SpecialNumber(10)"
      ]
     },
     "execution_count": 48,
     "metadata": {},
     "output_type": "execute_result"
    }
   ],
   "source": [
    "[SpecialNumber(i) for i in 1:10]"
   ]
  },
  {
   "cell_type": "code",
   "execution_count": 74,
   "metadata": {},
   "outputs": [
    {
     "data": {
      "text/plain": [
       "10×10 Array{SpecialNumber,2}:\n",
       "  SpecialNumber(92)  SpecialNumber(76)  …  SpecialNumber(37)\n",
       " SpecialNumber(100)  SpecialNumber(89)     SpecialNumber(80)\n",
       "  SpecialNumber(67)  SpecialNumber(71)      SpecialNumber(7)\n",
       "  SpecialNumber(34)  SpecialNumber(73)      SpecialNumber(4)\n",
       "  SpecialNumber(15)  SpecialNumber(19)      SpecialNumber(5)\n",
       "  SpecialNumber(81)  SpecialNumber(99)  …  SpecialNumber(26)\n",
       "  SpecialNumber(76)  SpecialNumber(76)     SpecialNumber(93)\n",
       "  SpecialNumber(12)  SpecialNumber(48)     SpecialNumber(97)\n",
       "  SpecialNumber(78)  SpecialNumber(77)     SpecialNumber(79)\n",
       "  SpecialNumber(28)  SpecialNumber(98)     SpecialNumber(39)"
      ]
     },
     "execution_count": 74,
     "metadata": {},
     "output_type": "execute_result"
    }
   ],
   "source": [
    "special_mat = SpecialNumber.(rand(1:100, 10, 10))"
   ]
  },
  {
   "cell_type": "markdown",
   "metadata": {},
   "source": [
    "# Multiple dispatch"
   ]
  },
  {
   "cell_type": "markdown",
   "metadata": {},
   "source": [
    "Single-dispatch languages: `SpecialNumber::plus(SpecialNumber other)`"
   ]
  },
  {
   "cell_type": "code",
   "execution_count": 77,
   "metadata": {},
   "outputs": [],
   "source": [
    "function Base.:+(a::SpecialNumber, b::SpecialNumber)\n",
    "    SpecialNumber(a.x + b.x)\n",
    "end"
   ]
  },
  {
   "cell_type": "code",
   "execution_count": 29,
   "metadata": {},
   "outputs": [
    {
     "data": {
      "text/plain": [
       "SpecialNumber(84)"
      ]
     },
     "execution_count": 29,
     "metadata": {},
     "output_type": "execute_result"
    }
   ],
   "source": [
    "x + x"
   ]
  },
  {
   "cell_type": "code",
   "execution_count": 34,
   "metadata": {},
   "outputs": [],
   "source": [
    "Base.:+(a::SpecialNumber, b::Number) = SpecialNumber(a.x + b)\n",
    "Base.:+(a::Number, b::SpecialNumber) = SpecialNumber(a + b.x)"
   ]
  },
  {
   "cell_type": "code",
   "execution_count": 35,
   "metadata": {},
   "outputs": [
    {
     "data": {
      "text/plain": [
       "SpecialNumber(43)"
      ]
     },
     "execution_count": 35,
     "metadata": {},
     "output_type": "execute_result"
    }
   ],
   "source": [
    "x + 1"
   ]
  },
  {
   "cell_type": "code",
   "execution_count": 36,
   "metadata": {},
   "outputs": [
    {
     "data": {
      "text/plain": [
       "SpecialNumber(43)"
      ]
     },
     "execution_count": 36,
     "metadata": {},
     "output_type": "execute_result"
    }
   ],
   "source": [
    "1 + x"
   ]
  },
  {
   "cell_type": "code",
   "execution_count": 39,
   "metadata": {},
   "outputs": [
    {
     "data": {
      "text/plain": [
       "SpecialNumber(126)"
      ]
     },
     "execution_count": 39,
     "metadata": {},
     "output_type": "execute_result"
    }
   ],
   "source": [
    "sum(SpecialNumber[x, x, x])"
   ]
  },
  {
   "cell_type": "code",
   "execution_count": 69,
   "metadata": {},
   "outputs": [
    {
     "data": {
      "text/plain": [
       "5×5 Array{SpecialNumber,2}:\n",
       " SpecialNumber(11961)  SpecialNumber(21506)  …   SpecialNumber(9653)\n",
       " SpecialNumber(12228)  SpecialNumber(29248)     SpecialNumber(15268)\n",
       " SpecialNumber(12679)  SpecialNumber(31501)     SpecialNumber(15950)\n",
       " SpecialNumber(14362)  SpecialNumber(29526)     SpecialNumber(13284)\n",
       " SpecialNumber(10942)  SpecialNumber(21297)     SpecialNumber(10317)"
      ]
     },
     "execution_count": 69,
     "metadata": {},
     "output_type": "execute_result"
    }
   ],
   "source": [
    "Base.:*(a::SpecialNumber, b::SpecialNumber) = SpecialNumber(a.x * b.x)\n",
    "special_mat * special_mat"
   ]
  }
 ],
 "metadata": {
  "kernelspec": {
   "display_name": "Julia 0.7.1-pre",
   "language": "julia",
   "name": "julia-0.7"
  },
  "language_info": {
   "file_extension": ".jl",
   "mimetype": "application/julia",
   "name": "julia",
   "version": "0.7.0"
  }
 },
 "nbformat": 4,
 "nbformat_minor": 2
}
