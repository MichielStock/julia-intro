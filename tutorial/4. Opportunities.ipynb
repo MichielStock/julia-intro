{
 "cells": [
  {
   "cell_type": "markdown",
   "metadata": {},
   "source": [
    "*Why should you care about all this?*"
   ]
  },
  {
   "cell_type": "markdown",
   "metadata": {},
   "source": [
    "# Composability"
   ]
  },
  {
   "cell_type": "markdown",
   "metadata": {},
   "source": [
    "* light-weight parametric type system\n",
    "* multiple-dispatch"
   ]
  },
  {
   "cell_type": "markdown",
   "metadata": {},
   "source": [
    "Let's say we've developed some application code:"
   ]
  },
  {
   "cell_type": "code",
   "execution_count": 1,
   "metadata": {},
   "outputs": [
    {
     "data": {
      "text/plain": [
       "foo (generic function with 1 method)"
      ]
     },
     "execution_count": 1,
     "metadata": {},
     "output_type": "execute_result"
    }
   ],
   "source": [
    "foo(x, y) = x*y + x - y"
   ]
  },
  {
   "cell_type": "code",
   "execution_count": 2,
   "metadata": {},
   "outputs": [
    {
     "data": {
      "text/plain": [
       "1"
      ]
     },
     "execution_count": 2,
     "metadata": {},
     "output_type": "execute_result"
    }
   ],
   "source": [
    "foo(1, 2)"
   ]
  },
  {
   "cell_type": "code",
   "execution_count": 3,
   "metadata": {},
   "outputs": [],
   "source": [
    "The code was intended to be used on regular CPU arrays:"
   ]
  },
  {
   "cell_type": "code",
   "execution_count": 4,
   "metadata": {},
   "outputs": [
    {
     "data": {
      "text/plain": [
       "2-element Array{Int64,1}:\n",
       " 1\n",
       " 6"
      ]
     },
     "execution_count": 4,
     "metadata": {},
     "output_type": "execute_result"
    }
   ],
   "source": [
    "a = [1,2]\n",
    "b = [3,4]\n",
    "foo.(a, b)"
   ]
  },
  {
   "cell_type": "markdown",
   "metadata": {},
   "source": [
    "Due to being dynamically typed, we can **change the container type** as long as all necessary operations are available:"
   ]
  },
  {
   "cell_type": "code",
   "execution_count": 9,
   "metadata": {},
   "outputs": [
    {
     "data": {
      "text/plain": [
       "2-element CuArray{Int64,1}:\n",
       " 1\n",
       " 6"
      ]
     },
     "execution_count": 9,
     "metadata": {},
     "output_type": "execute_result"
    }
   ],
   "source": [
    "using CuArrays\n",
    "gpu_a = CuArray(a)\n",
    "gpu_b = CuArray(b)\n",
    "foo.(gpu_a, gpu_b)"
   ]
  },
  {
   "cell_type": "markdown",
   "metadata": {},
   "source": [
    "We can also **change the element type**, e.g. to work with `Dual` numbers that track derivatives of operations:"
   ]
  },
  {
   "cell_type": "code",
   "execution_count": 6,
   "metadata": {},
   "outputs": [
    {
     "data": {
      "text/plain": [
       "2-element Array{ForwardDiff.Dual{Nothing,Int64,1},1}:\n",
       " Dual{Nothing}(1,4)\n",
       " Dual{Nothing}(6,6)"
      ]
     },
     "execution_count": 6,
     "metadata": {},
     "output_type": "execute_result"
    }
   ],
   "source": [
    "using ForwardDiff\n",
    "diff_a = ForwardDiff.Dual.(a, 1)\n",
    "diff_b = ForwardDiff.Dual.(b, 1)\n",
    "foo.(diff_a, diff_b)"
   ]
  },
  {
   "cell_type": "markdown",
   "metadata": {},
   "source": [
    "This is part of Julia's automatic differentiation ecosystem:"
   ]
  },
  {
   "cell_type": "code",
   "execution_count": 7,
   "metadata": {},
   "outputs": [
    {
     "data": {
      "text/plain": [
       "2-element Array{Int64,1}:\n",
       " 4\n",
       " 5"
      ]
     },
     "execution_count": 7,
     "metadata": {},
     "output_type": "execute_result"
    }
   ],
   "source": [
    "bar = x -> sum(foo.(x, b))\n",
    "grad = x -> ForwardDiff.gradient(bar, x)\n",
    "grad(a)"
   ]
  },
  {
   "cell_type": "markdown",
   "metadata": {},
   "source": [
    "Going even further, we can **compose the infrastructure** and accomplish dual numbers on the GPU:"
   ]
  },
  {
   "cell_type": "code",
   "execution_count": 8,
   "metadata": {},
   "outputs": [
    {
     "data": {
      "text/plain": [
       "2-element CuArray{ForwardDiff.Dual{Nothing,Int64,1},1}:\n",
       " Dual{Nothing}(1,4)\n",
       " Dual{Nothing}(6,6)"
      ]
     },
     "execution_count": 8,
     "metadata": {},
     "output_type": "execute_result"
    }
   ],
   "source": [
    "gpu_diff_a = CuArray(diff_a)\n",
    "gpu_diff_b = CuArray(diff_b)\n",
    "foo.(gpu_diff_a, gpu_diff_b)"
   ]
  },
  {
   "cell_type": "markdown",
   "metadata": {},
   "source": [
    "The package ecosystem is still figuring out interface design to maximize opportunities here, but this is very powerful!"
   ]
  },
  {
   "cell_type": "markdown",
   "metadata": {},
   "source": [
    "# Speed"
   ]
  },
  {
   "cell_type": "markdown",
   "metadata": {},
   "source": [
    "Language designer around JIT compiler:\n",
    "* fine-grained specialization\n",
    "* avoid program uncertainty\n",
    "* compileable abstractions"
   ]
  },
  {
   "cell_type": "markdown",
   "metadata": {},
   "source": [
    "Reuse of high-quality libraries:\n",
    "* BLAS\n",
    "* LAPACK\n",
    "* ARPACK"
   ]
  },
  {
   "cell_type": "markdown",
   "metadata": {},
   "source": [
    "![Julia performance](img/julia_perf.png)"
   ]
  },
  {
   "cell_type": "markdown",
   "metadata": {},
   "source": [
    "# First-class compiler\n",
    "*Note: personal bias.*"
   ]
  },
  {
   "cell_type": "markdown",
   "metadata": {},
   "source": [
    "## CUDAnative.jl"
   ]
  },
  {
   "cell_type": "markdown",
   "metadata": {},
   "source": [
    "![Compiler interfaces](img/interfaces.png)"
   ]
  },
  {
   "cell_type": "markdown",
   "metadata": {},
   "source": [
    "## SIMD.jl"
   ]
  },
  {
   "cell_type": "markdown",
   "metadata": {},
   "source": [
    "We already have `@simd` annotated for loops, helping the compiler to autovectorize.\n",
    "\n",
    "With SIMD.jl, we can express SIMD-vectorized operations naturally."
   ]
  },
  {
   "cell_type": "markdown",
   "metadata": {},
   "source": [
    "```julia\n",
    "using SIMD\n",
    "function vadd!{N,T}(xs::Vector{T}, ys::Vector{T}, ::Type{Vec{N,T}})\n",
    "    @assert length(ys) == length(xs)\n",
    "    @assert length(xs) % N == 0\n",
    "    @inbounds for i in 1:N:length(xs)\n",
    "        xv = vload(Vec{N,T}, xs, i)\n",
    "        yv = vload(Vec{N,T}, ys, i)\n",
    "        xv += yv\n",
    "        vstore(xv, xs, i)\n",
    "    end\n",
    "end\n",
    "```"
   ]
  },
  {
   "cell_type": "markdown",
   "metadata": {},
   "source": [
    "## Cassette.jl\n",
    "*Cassette lets you easily extend the Julia language by directly injecting the Julia compiler with new, context-specific behaviors.*"
   ]
  }
 ],
 "metadata": {
  "kernelspec": {
   "display_name": "Julia 0.7.0",
   "language": "julia",
   "name": "julia-0.7"
  },
  "language_info": {
   "file_extension": ".jl",
   "mimetype": "application/julia",
   "name": "julia",
   "version": "0.7.0"
  }
 },
 "nbformat": 4,
 "nbformat_minor": 2
}
