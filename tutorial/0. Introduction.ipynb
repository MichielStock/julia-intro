{
 "cells": [
  {
   "cell_type": "markdown",
   "metadata": {},
   "source": [
    "# Introduction to Julia"
   ]
  },
  {
   "cell_type": "markdown",
   "metadata": {},
   "source": [
    "Tim Besard (`@maleadt`)\n",
    "\n",
    "PhD. student Ghent University, faculty of Engineering\n",
    "\n",
    "Research: compiling high-level languages for GPUs"
   ]
  },
  {
   "cell_type": "markdown",
   "metadata": {},
   "source": [
    "# This session...\n",
    "\n",
    "* very short introduction\n",
    "* focus on high-level aspects\n",
    "* assuming some knowledge of programming"
   ]
  },
  {
   "cell_type": "markdown",
   "metadata": {},
   "source": [
    "# Why Julia?\n",
    "* high-level and easy to learn\n",
    "* interactive\n",
    "* but Just-In-Time (JIT) compiled"
   ]
  },
  {
   "cell_type": "markdown",
   "metadata": {},
   "source": [
    "JIT compilation has driven the design:\n",
    "* fast (~2-3x C speed)\n",
    "* solves the infamous **two-language problem**\n",
    "* most of the standard library is implemented in Julia itself!"
   ]
  },
  {
   "cell_type": "markdown",
   "metadata": {},
   "source": [
    "```\n",
    "$ ~/julia$ cloc src base stdlib\n",
    "----------------------------------------------\n",
    "Language   files     blank   comment      code\n",
    "----------------------------------------------\n",
    "Julia        521     26917     16431    176909\n",
    "C             74      4279      3917     44260 gc,gf,ast,dump,...\n",
    "C++           35      2475      3490     26702 LLVM\n",
    "Scheme        11       633       704      7265 parser\n",
    "----------------------------------------------\n",
    "```"
   ]
  },
  {
   "cell_type": "markdown",
   "metadata": {},
   "source": [
    "## Open-source project\n",
    "* MIT-license\n",
    "* worldwide community\n",
    "  * GitHub: code and issues\n",
    "  * Discourse: support and discussions\n",
    "  * Slack: short-lived talk\n",
    "* JuliaComputing: consultancy, employ core devs"
   ]
  },
  {
   "cell_type": "markdown",
   "metadata": {},
   "source": [
    "# How to use Julia?"
   ]
  },
  {
   "cell_type": "markdown",
   "metadata": {},
   "source": [
    "## On your own computer\n",
    "https://julialang.org/downloads/"
   ]
  },
  {
   "cell_type": "markdown",
   "metadata": {},
   "source": [
    "- v1.0.0\n",
    "- v0.7.0: includes deprecations"
   ]
  },
  {
   "cell_type": "markdown",
   "metadata": {},
   "source": [
    "Deprecations: useful for packages, tutorials, ..."
   ]
  },
  {
   "cell_type": "markdown",
   "metadata": {},
   "source": [
    "### REPL"
   ]
  },
  {
   "cell_type": "markdown",
   "metadata": {},
   "source": [
    "```\n",
    "$ julia\n",
    "               _\n",
    "   _       _ _(_)_     |  A fresh approach to technical computing\n",
    "  (_)     | (_) (_)    |  Documentation: https://docs.julialang.org\n",
    "   _ _   _| |_  __ _   |  Type \"?\" for help, \"]?\" for Pkg help.\n",
    "  | | | | | | |/ _` |  |\n",
    "  | | |_| | | | (_| |  |  Version 0.7.0 (2018-08-08 06:46 UTC)\n",
    " _/ |\\__'_|_|_|\\__'_|  |  \n",
    "|__/                   |  x86_64-pc-linux-gnu\n",
    "\n",
    "julia> 1+1\n",
    "2\n",
    "```"
   ]
  },
  {
   "cell_type": "markdown",
   "metadata": {},
   "source": [
    "### IJupyter notebooks"
   ]
  },
  {
   "cell_type": "markdown",
   "metadata": {},
   "source": [
    "```\n",
    "julia> using Pkg\n",
    "       Pkg.add(\"IJulia\")\n",
    "\n",
    "julia> using IJulia\n",
    "       notebook()\n",
    "```"
   ]
  },
  {
   "cell_type": "markdown",
   "metadata": {},
   "source": [
    "### Juno IDE\n",
    "http://junolab.org/"
   ]
  },
  {
   "cell_type": "markdown",
   "metadata": {},
   "source": [
    "## In the cloud"
   ]
  },
  {
   "cell_type": "markdown",
   "metadata": {},
   "source": [
    "### JuliaBox\n",
    "https://juliabox.com/\n",
    "> Run Julia in your Browser\n",
    "\n",
    "* Jupyter Notebook interface\n",
    "* Free for basic usage"
   ]
  },
  {
   "cell_type": "markdown",
   "metadata": {},
   "source": [
    "### Binder\n",
    "https://github.com/maleadt/julia-intro/\n",
    "\n",
    "Follow along, click the `launch binder` button!"
   ]
  }
 ],
 "metadata": {
  "kernelspec": {
   "display_name": "Julia 0.7.1-pre",
   "language": "julia",
   "name": "julia-0.7"
  },
  "language_info": {
   "file_extension": ".jl",
   "mimetype": "application/julia",
   "name": "julia",
   "version": "0.7.1"
  }
 },
 "nbformat": 4,
 "nbformat_minor": 2
}
