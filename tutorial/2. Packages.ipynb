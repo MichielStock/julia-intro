{
 "cells": [
  {
   "cell_type": "markdown",
   "metadata": {},
   "source": [
    "# Package management"
   ]
  },
  {
   "cell_type": "markdown",
   "metadata": {},
   "source": [
    "> Type \"?\" for help, \"]?\" for Pkg help."
   ]
  },
  {
   "cell_type": "markdown",
   "metadata": {},
   "source": [
    "```\n",
    "julia> ]\n",
    "\n",
    "(v1.0) pkg>\n",
    "```"
   ]
  },
  {
   "cell_type": "markdown",
   "metadata": {},
   "source": [
    "Packages are registered in: https://github.com/JuliaLang/METADATA.jl/\n",
    "\n",
    "Soon to be: https://github.com/JuliaRegistries/General"
   ]
  },
  {
   "cell_type": "code",
   "execution_count": 64,
   "metadata": {},
   "outputs": [
    {
     "name": "stdout",
     "output_type": "stream",
     "text": [
      "\u001b[36m\u001b[1mProject \u001b[22m\u001b[39mjulia-intro v0.1.0\n",
      "\u001b[32m\u001b[1m    Status\u001b[22m\u001b[39m `Project.toml`\n",
      " \u001b[90m [a2cc645c]\u001b[39m\u001b[37m GraphPlot v0.2.1\u001b[39m\n",
      " \u001b[90m [7073ff75]\u001b[39m\u001b[37m IJulia v1.10.0\u001b[39m\n"
     ]
    }
   ],
   "source": [
    "]status"
   ]
  },
  {
   "cell_type": "code",
   "execution_count": 65,
   "metadata": {},
   "outputs": [
    {
     "name": "stdout",
     "output_type": "stream",
     "text": [
      "0. Introduction.ipynb\n",
      "1. Basics.ipynb\n",
      "2. Packages.ipynb\n",
      "3. GPU.ipynb\n",
      "4. Opportunities.ipynb\n",
      "img\n",
      "Manifest.toml\n",
      "Project.toml\n"
     ]
    }
   ],
   "source": [
    ";ls"
   ]
  },
  {
   "cell_type": "code",
   "execution_count": 66,
   "metadata": {},
   "outputs": [],
   "source": [
    "]activate ."
   ]
  },
  {
   "cell_type": "code",
   "execution_count": 67,
   "metadata": {},
   "outputs": [
    {
     "name": "stdout",
     "output_type": "stream",
     "text": [
      "\u001b[36m\u001b[1mProject \u001b[22m\u001b[39mjulia-intro v0.1.0\n",
      "\u001b[32m\u001b[1m    Status\u001b[22m\u001b[39m `Project.toml`\n",
      " \u001b[90m [a2cc645c]\u001b[39m\u001b[37m GraphPlot v0.2.1\u001b[39m\n",
      " \u001b[90m [7073ff75]\u001b[39m\u001b[37m IJulia v1.10.0\u001b[39m\n"
     ]
    }
   ],
   "source": [
    "]status"
   ]
  },
  {
   "cell_type": "code",
   "execution_count": 68,
   "metadata": {},
   "outputs": [
    {
     "name": "stdout",
     "output_type": "stream",
     "text": [
      "name = \"julia-intro\"\n",
      "uuid = \"c0ea12e0-a9e8-11e8-3aaa-d59a3207d622\"\n",
      "authors = [\"Tim Besard <tim.besard@gmail.com>\"]\n",
      "version = \"0.1.0\"\n",
      "\n",
      "[deps]\n",
      "GraphPlot = \"a2cc645c-3eea-5389-862e-a155d0052231\"\n",
      "IJulia = \"7073ff75-c697-5162-941a-fcdaad2a7d2a\"\n"
     ]
    }
   ],
   "source": [
    ";cat Project.toml"
   ]
  },
  {
   "cell_type": "code",
   "execution_count": 69,
   "metadata": {},
   "outputs": [
    {
     "name": "stdout",
     "output_type": "stream",
     "text": [
      "[[Arpack]]\n",
      "deps = [\"BinaryProvider\", \"Libdl\", \"LinearAlgebra\", \"Random\", \"SparseArrays\", \"Test\"]\n",
      "git-tree-sha1 = \"5b046410fb617d9cf2f8bc0edd5da05a2e5a2ad4\"\n",
      "uuid = \"7d9fca2a-8960-54d3-9f78-7d1dccf2cb97\"\n",
      "version = \"0.2.3\"\n",
      "\n",
      "[[Base64]]\n",
      "uuid = \"2a0f44e3-6c83-55bd-87e4-b1978d98bd5f\"\n",
      "\n",
      "[[BinaryProvider]]\n",
      "deps = [\"Libdl\", \"Pkg\", \"SHA\", \"Test\"]\n",
      "git-tree-sha1 = \"b530fbeb6f41ab5a83fbe3db1fcbe879334bcd2d\"\n",
      "uuid = \"b99e7846-7c00-51b0-8f62-c81ae34c0232\"\n",
      "version = \"0.4.2\"\n",
      "\n",
      "[[CodecZlib]]\n",
      "deps = [\"BinaryProvider\", \"Libdl\", \"Pkg\", \"Test\", \"TranscodingStreams\"]\n",
      "git-tree-sha1 = \"83cb3d65c37ea1364c2d5bf7bcea41843ba645dc\"\n",
      "uuid = \"944b1d66-785c-5afd-91f1-9de20f533193\"\n",
      "version = \"0.5.0\"\n",
      "\n",
      "[[ColorTypes]]\n",
      "deps = [\"FixedPointNumbers\", \"Random\", \"Test\"]\n",
      "git-tree-sha1 = \"0e3209ba7418aed732e5c3818076b4400ee36c08\"\n",
      "uuid = \"3da002f7-5984-5a60-b8a6-cbb66c0b333f\"\n",
      "version = \"0.7.4\"\n",
      "\n",
      "[[Colors]]\n",
      "deps = [\"ColorTypes\", \"FixedPointNumbers\", \"InteractiveUtils\", \"Pkg\", \"Printf\", \"Reexport\", \"Test\"]\n",
      "git-tree-sha1 = \"8c89e0a9a583954eae3efcf6a531e51c02b38cee\"\n",
      "uuid = \"5ae59095-9a9b-59fe-a467-6f913c188581\"\n",
      "version = \"0.9.4\"\n",
      "\n",
      "[[Compat]]\n",
      "deps = [\"Base64\", \"Dates\", \"DelimitedFiles\", \"Distributed\", \"InteractiveUtils\", \"LibGit2\", \"Libdl\", \"LinearAlgebra\", \"Markdown\", \"Mmap\", \"Pkg\", \"Printf\", \"REPL\", \"Random\", \"Serialization\", \"SharedArrays\", \"Sockets\", \"SparseArrays\", \"Statistics\", \"Test\", \"UUIDs\", \"Unicode\"]\n",
      "git-tree-sha1 = \"ae262fa91da6a74e8937add6b613f58cd56cdad4\"\n",
      "uuid = \"34da2185-b29b-5c13-b0c7-acf172513d20\"\n",
      "version = \"1.1.0\"\n",
      "\n",
      "[[Compose]]\n",
      "deps = [\"Colors\", \"Compat\", \"DataStructures\", \"IterTools\", \"JSON\", \"Measures\"]\n",
      "git-tree-sha1 = \"9a77c574fd4b05a818be68f7781dcea8f8965181\"\n",
      "uuid = \"a81c6b42-2e10-5240-aca2-a61377ecd94b\"\n",
      "version = \"0.6.1\"\n",
      "\n",
      "[[Conda]]\n",
      "deps = [\"Compat\", \"JSON\", \"VersionParsing\"]\n",
      "git-tree-sha1 = \"a47f9a2c7b80095e6a935536795635522fe27f5d\"\n",
      "uuid = \"8f4d0f93-b110-5947-807f-2305c1781a2d\"\n",
      "version = \"1.0.1\"\n",
      "\n",
      "[[DataStructures]]\n",
      "deps = [\"InteractiveUtils\", \"REPL\", \"Random\", \"Serialization\", \"Test\"]\n",
      "git-tree-sha1 = \"2afbbd0294306b0b74a753c196be50b35edb625c\"\n",
      "uuid = \"864edb3b-99cc-5e75-8d2d-829cb0a9cfe8\"\n",
      "version = \"0.11.1\"\n",
      "\n",
      "[[Dates]]\n",
      "deps = [\"Printf\"]\n",
      "uuid = \"ade2ca70-3891-5945-98fb-dc099432e06a\"\n",
      "\n",
      "[[DelimitedFiles]]\n",
      "deps = [\"Mmap\"]\n",
      "uuid = \"8bb1440f-4735-579b-a4ab-409b98df4dab\"\n",
      "\n",
      "[[Distributed]]\n",
      "deps = [\"LinearAlgebra\", \"Random\", \"Serialization\", \"Sockets\"]\n",
      "uuid = \"8ba89e20-285c-5b6f-9357-94700520ee1b\"\n",
      "\n",
      "[[FileWatching]]\n",
      "uuid = \"7b1f6079-737a-58dc-b8bc-7a2ca5c1b5ee\"\n",
      "\n",
      "[[FixedPointNumbers]]\n",
      "deps = [\"Pkg\", \"Test\"]\n",
      "git-tree-sha1 = \"b8045033701c3b10bf2324d7203404be7aef88ba\"\n",
      "uuid = \"53c48c17-4a7d-5ca2-90c5-79b7896eea93\"\n",
      "version = \"0.5.3\"\n",
      "\n",
      "[[GraphPlot]]\n",
      "deps = [\"ColorTypes\", \"Colors\", \"Compose\", \"LightGraphs\"]\n",
      "git-tree-sha1 = \"191a45194460c9baa69d352402934eb70859a245\"\n",
      "uuid = \"a2cc645c-3eea-5389-862e-a155d0052231\"\n",
      "version = \"0.2.1\"\n",
      "\n",
      "[[IJulia]]\n",
      "deps = [\"Compat\", \"Conda\", \"InteractiveUtils\", \"JSON\", \"Markdown\", \"MbedTLS\", \"Pkg\", \"REPL\", \"Random\", \"SoftGlobalScope\", \"UUIDs\", \"ZMQ\"]\n",
      "git-tree-sha1 = \"def2e9ee9963ee935dab64fb0d971042c384dbfd\"\n",
      "uuid = \"7073ff75-c697-5162-941a-fcdaad2a7d2a\"\n",
      "version = \"1.10.0\"\n",
      "\n",
      "[[InteractiveUtils]]\n",
      "deps = [\"LinearAlgebra\", \"Markdown\"]\n",
      "uuid = \"b77e0a4c-d291-57a0-90e8-8db25a27a240\"\n",
      "\n",
      "[[IterTools]]\n",
      "deps = [\"Pkg\", \"SparseArrays\", \"Test\"]\n",
      "git-tree-sha1 = \"ed0787e62dc46b8d8c7c3db54391d71e0da5fefd\"\n",
      "uuid = \"c8e1da08-722c-5040-9ed9-7db0dc04731e\"\n",
      "version = \"1.0.0\"\n",
      "\n",
      "[[JSON]]\n",
      "deps = [\"Dates\", \"Distributed\", \"Mmap\", \"Pkg\", \"Sockets\", \"Test\", \"Unicode\"]\n",
      "git-tree-sha1 = \"fec8e4d433072731466d37ed0061b3ba7f70eeb9\"\n",
      "uuid = \"682c06a0-de6a-54ab-a142-c8b1cf79cde6\"\n",
      "version = \"0.19.0\"\n",
      "\n",
      "[[LibGit2]]\n",
      "uuid = \"76f85450-5226-5b5a-8eaa-529ad045b433\"\n",
      "\n",
      "[[Libdl]]\n",
      "uuid = \"8f399da3-3557-5675-b5ff-fb832c97cbdb\"\n",
      "\n",
      "[[LightGraphs]]\n",
      "deps = [\"Arpack\", \"Base64\", \"CodecZlib\", \"DataStructures\", \"DelimitedFiles\", \"Distributed\", \"LinearAlgebra\", \"Markdown\", \"Pkg\", \"Random\", \"SharedArrays\", \"SimpleTraits\", \"SparseArrays\", \"Statistics\", \"Test\"]\n",
      "git-tree-sha1 = \"fd35b52d1e347e71dfec1e2bf5dbc7d5a46db8ec\"\n",
      "uuid = \"093fc24a-ae57-5d10-9952-331d41423f4d\"\n",
      "version = \"1.0.2\"\n",
      "\n",
      "[[LinearAlgebra]]\n",
      "deps = [\"Libdl\"]\n",
      "uuid = \"37e2e46d-f89d-539d-b4ee-838fcccc9c8e\"\n",
      "\n",
      "[[Logging]]\n",
      "uuid = \"56ddb016-857b-54e1-b83d-db4d58db5568\"\n",
      "\n",
      "[[MacroTools]]\n",
      "deps = [\"Compat\"]\n",
      "git-tree-sha1 = \"c443e1c8d58a4e9f61b708ad0a88286c7042145b\"\n",
      "uuid = \"1914dd2f-81c6-5fcd-8719-6d5c9610ff09\"\n",
      "version = \"0.4.4\"\n",
      "\n",
      "[[Markdown]]\n",
      "deps = [\"Base64\"]\n",
      "uuid = \"d6f4376e-aef5-505a-96c1-9c027394607a\"\n",
      "\n",
      "[[MbedTLS]]\n",
      "deps = [\"BinaryProvider\", \"Compat\", \"Libdl\", \"Pkg\", \"Sockets\"]\n",
      "git-tree-sha1 = \"17d5a81dbb1e682d4ff707c01f0afe5948068fa6\"\n",
      "uuid = \"739be429-bea8-5141-9913-cc70e7f3736d\"\n",
      "version = \"0.6.0\"\n",
      "\n",
      "[[Measures]]\n",
      "deps = [\"Compat\"]\n",
      "git-tree-sha1 = \"9cdd05418a7f2f7ce534014285edf01f465d6961\"\n",
      "uuid = \"442fdcdd-2543-5da2-b0f3-8c86c306513e\"\n",
      "version = \"0.2.0\"\n",
      "\n",
      "[[Mmap]]\n",
      "uuid = \"a63ad114-7e13-5084-954f-fe012c677804\"\n",
      "\n",
      "[[Pkg]]\n",
      "deps = [\"Dates\", \"LibGit2\", \"Markdown\", \"Printf\", \"REPL\", \"Random\", \"SHA\", \"UUIDs\"]\n",
      "uuid = \"44cfe95a-1eb2-52ea-b672-e2afdf69b78f\"\n",
      "\n",
      "[[Printf]]\n",
      "deps = [\"Unicode\"]\n",
      "uuid = \"de0858da-6303-5e67-8744-51eddeeeb8d7\"\n",
      "\n",
      "[[REPL]]\n",
      "deps = [\"InteractiveUtils\", \"Markdown\", \"Sockets\"]\n",
      "uuid = \"3fa0cd96-eef1-5676-8a61-b3b8758bbffb\"\n",
      "\n",
      "[[Random]]\n",
      "deps = [\"Serialization\"]\n",
      "uuid = \"9a3f8284-a2c9-5f02-9a11-845980a1fd5c\"\n",
      "\n",
      "[[Reexport]]\n",
      "deps = [\"Pkg\"]\n",
      "git-tree-sha1 = \"7b1d07f411bc8ddb7977ec7f377b97b158514fe0\"\n",
      "uuid = \"189a3867-3050-52da-a836-e630ba90ab69\"\n",
      "version = \"0.2.0\"\n",
      "\n",
      "[[SHA]]\n",
      "uuid = \"ea8e919c-243c-51af-8825-aaa63cd721ce\"\n",
      "\n",
      "[[Serialization]]\n",
      "uuid = \"9e88b42a-f829-5b0c-bbe9-9e923198166b\"\n",
      "\n",
      "[[SharedArrays]]\n",
      "deps = [\"Distributed\", \"Mmap\", \"Random\", \"Serialization\"]\n",
      "uuid = \"1a1011a3-84de-559e-8e89-a11a2f7dc383\"\n",
      "\n",
      "[[SimpleTraits]]\n",
      "deps = [\"InteractiveUtils\", \"MacroTools\", \"Pkg\", \"Test\"]\n",
      "git-tree-sha1 = \"c0a542b8d5e369b179ccd296b2ca987f6da5da0a\"\n",
      "uuid = \"699a6c99-e7fa-54fc-8d76-47d257e15c1d\"\n",
      "version = \"0.8.0\"\n",
      "\n",
      "[[Sockets]]\n",
      "uuid = \"6462fe0b-24de-5631-8697-dd941f90decc\"\n",
      "\n",
      "[[SoftGlobalScope]]\n",
      "deps = [\"Test\"]\n",
      "git-tree-sha1 = \"7a26939866a09ed6754fb35e4056d0f2ff740b3b\"\n",
      "uuid = \"b85f4697-e234-5449-a836-ec8e2f98b302\"\n",
      "version = \"1.0.2\"\n",
      "\n",
      "[[SparseArrays]]\n",
      "deps = [\"LinearAlgebra\", \"Random\"]\n",
      "uuid = \"2f01184e-e22b-5df5-ae63-d93ebab69eaf\"\n",
      "\n",
      "[[Statistics]]\n",
      "deps = [\"LinearAlgebra\", \"SparseArrays\"]\n",
      "uuid = \"10745b16-79ce-11e8-11f9-7d13ad32a3b2\"\n",
      "\n",
      "[[Test]]\n",
      "deps = [\"Distributed\", \"InteractiveUtils\", \"Logging\", \"Random\"]\n",
      "uuid = \"8dfed614-e22c-5e08-85e1-65c5234f0b40\"\n",
      "\n",
      "[[TranscodingStreams]]\n",
      "deps = [\"DelimitedFiles\", \"Pkg\", \"Random\", \"Test\"]\n",
      "git-tree-sha1 = \"a34a2d588e2d2825602bf14a24216d5c8b0921ec\"\n",
      "uuid = \"3bb67fe8-82b1-5028-8e26-92a6c54297fa\"\n",
      "version = \"0.8.1\"\n",
      "\n",
      "[[UUIDs]]\n",
      "deps = [\"Random\"]\n",
      "uuid = \"cf7118a7-6976-5b1a-9a39-7adc72f591a4\"\n",
      "\n",
      "[[Unicode]]\n",
      "uuid = \"4ec0a83e-493e-50e2-b9ac-8f72acf5a8f5\"\n",
      "\n",
      "[[VersionParsing]]\n",
      "deps = [\"Compat\"]\n",
      "git-tree-sha1 = \"c9d5aa108588b978bd859554660c8a5c4f2f7669\"\n",
      "uuid = \"81def892-9a0e-5fdd-b105-ffc91e053289\"\n",
      "version = \"1.1.2\"\n",
      "\n",
      "[[ZMQ]]\n",
      "deps = [\"BinaryProvider\", \"Compat\", \"FileWatching\", \"Libdl\"]\n",
      "git-tree-sha1 = \"e9ced094bc2913c533db33283084f85e2a460465\"\n",
      "uuid = \"c2297ded-f4af-51ae-bb23-16f91089e4e1\"\n",
      "version = \"0.6.4\"\n"
     ]
    }
   ],
   "source": [
    ";cat Manifest.toml"
   ]
  },
  {
   "cell_type": "code",
   "execution_count": 70,
   "metadata": {},
   "outputs": [
    {
     "name": "stdout",
     "output_type": "stream",
     "text": [
      "\u001b[36m  generate pkgname\u001b[39m\n",
      "\n",
      "  Create a project called \u001b[36mpkgname\u001b[39m in the current folder."
     ]
    }
   ],
   "source": [
    "]help generate"
   ]
  },
  {
   "cell_type": "markdown",
   "metadata": {},
   "source": [
    "# Example: BenchmarkTools.jl\n",
    "https://github.com/JuliaCI/BenchmarkTools.jl"
   ]
  },
  {
   "cell_type": "markdown",
   "metadata": {},
   "source": [
    "Many packages will have \"documentation badges\":\n",
    "https://github.com/JuliaGPU/CUDAnative.jl"
   ]
  },
  {
   "cell_type": "code",
   "execution_count": 71,
   "metadata": {},
   "outputs": [
    {
     "name": "stdout",
     "output_type": "stream",
     "text": [
      "\u001b[32m\u001b[1m Resolving\u001b[22m\u001b[39m package versions...\n",
      "\u001b[32m\u001b[1m  Updating\u001b[22m\u001b[39m `Project.toml`\n",
      " \u001b[90m [6e4b80f9]\u001b[39m\u001b[92m + BenchmarkTools v0.4.0\u001b[39m\n",
      "\u001b[32m\u001b[1m  Updating\u001b[22m\u001b[39m `Manifest.toml`\n",
      " \u001b[90m [6e4b80f9]\u001b[39m\u001b[92m + BenchmarkTools v0.4.0\u001b[39m\n"
     ]
    }
   ],
   "source": [
    "]add BenchmarkTools"
   ]
  },
  {
   "cell_type": "code",
   "execution_count": 72,
   "metadata": {},
   "outputs": [
    {
     "name": "stdout",
     "output_type": "stream",
     "text": [
      "\u001b[36m\u001b[1mProject \u001b[22m\u001b[39mjulia-intro v0.1.0\n",
      "\u001b[32m\u001b[1m    Status\u001b[22m\u001b[39m `Project.toml`\n",
      " \u001b[90m [6e4b80f9]\u001b[39m\u001b[37m BenchmarkTools v0.4.0\u001b[39m\n",
      " \u001b[90m [a2cc645c]\u001b[39m\u001b[37m GraphPlot v0.2.1\u001b[39m\n",
      " \u001b[90m [7073ff75]\u001b[39m\u001b[37m IJulia v1.10.0\u001b[39m\n"
     ]
    }
   ],
   "source": [
    "]st"
   ]
  },
  {
   "cell_type": "code",
   "execution_count": 73,
   "metadata": {},
   "outputs": [],
   "source": [
    "using BenchmarkTools"
   ]
  },
  {
   "cell_type": "code",
   "execution_count": 74,
   "metadata": {},
   "outputs": [
    {
     "name": "stdout",
     "output_type": "stream",
     "text": [
      "  0.000002 seconds (5 allocations: 176 bytes)\n"
     ]
    },
    {
     "data": {
      "text/plain": [
       "0.8414709848078965"
      ]
     },
     "execution_count": 74,
     "metadata": {},
     "output_type": "execute_result"
    }
   ],
   "source": [
    "Base.@time sin(1)"
   ]
  },
  {
   "cell_type": "code",
   "execution_count": 75,
   "metadata": {},
   "outputs": [
    {
     "name": "stdout",
     "output_type": "stream",
     "text": [
      "  7.917 ns (0 allocations: 0 bytes)\n"
     ]
    },
    {
     "data": {
      "text/plain": [
       "0.8414709848078965"
      ]
     },
     "execution_count": 75,
     "metadata": {},
     "output_type": "execute_result"
    }
   ],
   "source": [
    "BenchmarkTools.@btime sin(1)"
   ]
  },
  {
   "cell_type": "code",
   "execution_count": 76,
   "metadata": {},
   "outputs": [
    {
     "name": "stdout",
     "output_type": "stream",
     "text": [
      "\u001b[32m\u001b[1m  Updating\u001b[22m\u001b[39m `Project.toml`\n",
      " \u001b[90m [6e4b80f9]\u001b[39m\u001b[91m - BenchmarkTools v0.4.0\u001b[39m\n",
      "\u001b[32m\u001b[1m  Updating\u001b[22m\u001b[39m `Manifest.toml`\n",
      " \u001b[90m [6e4b80f9]\u001b[39m\u001b[91m - BenchmarkTools v0.4.0\u001b[39m\n"
     ]
    }
   ],
   "source": [
    "]rm BenchmarkTools"
   ]
  },
  {
   "cell_type": "markdown",
   "metadata": {},
   "source": [
    "# Many others!\n",
    "http://www.stochasticlifestyle.com/some-state-of-the-art-packages-in-julia-v1-0/\n",
    "* JuMP.jl: modeling language for mathematical optimization\n",
    "* DifferentialEquations.jl: suite for high-performance solvers of differential equations\n",
    "* LightGraphs.jl\n",
    "* Images.jl\n",
    "* Flux.jl\n",
    "* ..."
   ]
  }
 ],
 "metadata": {
  "kernelspec": {
   "display_name": "Julia 0.7.0",
   "language": "julia",
   "name": "julia-0.7"
  },
  "language_info": {
   "file_extension": ".jl",
   "mimetype": "application/julia",
   "name": "julia",
   "version": "0.7.0"
  }
 },
 "nbformat": 4,
 "nbformat_minor": 2
}
